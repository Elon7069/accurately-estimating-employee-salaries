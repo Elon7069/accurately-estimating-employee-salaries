{
 "cells": [
  {
   "cell_type": "code",
   "execution_count": null,
   "id": "53a81e3b-bd00-499d-bf54-681b06810c59",
   "metadata": {},
   "outputs": [],
   "source": [
    "# Convert categorical columns to numeric using one-hot encoding\n",
    "data = pd.get_dummies(data, drop_first=True)\n",
    "\n",
    "# Split into features and target\n",
    "X = data.drop('Salary', axis=1)  # Replace 'Salary' with actual column name\n",
    "y = data['Salary']\n",
    "\n",
    "# Split into training and testing sets\n",
    "X_train, X_test, y_train, y_test = train_test_split(X, y, test_size=0.2, random_state=42)\n",
    "\n",
    "# Scale numerical features\n",
    "scaler = StandardScaler()\n",
    "X_train = scaler.fit_transform(X_train)\n",
    "X_test = scaler.transform(X_test)\n"
   ]
  }
 ],
 "metadata": {
  "kernelspec": {
   "display_name": "Python 3 (ipykernel)",
   "language": "python",
   "name": "python3"
  },
  "language_info": {
   "codemirror_mode": {
    "name": "ipython",
    "version": 3
   },
   "file_extension": ".py",
   "mimetype": "text/x-python",
   "name": "python",
   "nbconvert_exporter": "python",
   "pygments_lexer": "ipython3",
   "version": "3.12.7"
  }
 },
 "nbformat": 4,
 "nbformat_minor": 5
}
