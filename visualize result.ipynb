# Correlation heatmap
plt.figure(figsize=(12, 8))
correlation = data.corr()
sns.heatmap(correlation, annot=True, fmt=".2f", cmap="coolwarm", vmin=-1, vmax=1)
plt.title("Correlation Heatmap")
plt.show()

# Boxplot for salary by categorical variable (replace 'Job_Title' with actual feature name)
plt.figure(figsize=(12, 6))
sns.boxplot(data=data, x='Job_Title', y='Salary', palette='Set2')
plt.xticks(rotation=45)
plt.title("Salary Distribution by Job Title")
plt.ylabel("Salary")
plt.xlabel("Job Title")
plt.show()

# Distribution of a feature before and after scaling
original_feature = data['Age']  # Replace 'Age' with a feature from your dataset
scaled_feature = scaler.transform(data[['Age']])  # Scaling the same feature

plt.figure(figsize=(12, 6))

# Original distribution
plt.subplot(1, 2, 1)
sns.histplot(original_feature, kde=True, color="blue", bins=20)
plt.title("Original Feature Distribution (Age)")

# Scaled distribution
plt.subplot(1, 2, 2)
sns.histplot(scaled_feature, kde=True, color="green", bins=20)
plt.title("Scaled Feature Distribution (Age)")

plt.tight_layout()
plt.show()

# Feature importance for Random Forest
importances = rf_model.feature_importances_
features = X.columns

plt.figure(figsize=(12, 6))
sns.barplot(x=importances, y=features, palette="viridis")
plt.title("Feature Importance")
plt.xlabel("Importance Score")
plt.ylabel("Features")
plt.show()

# Pairplot with hue based on salary range (categorize salary for better visualization)
data['Salary_Category'] = pd.qcut(data['Salary'], q=4, labels=["Low", "Medium", "High", "Very High"])  # Replace 'Salary' with your target

sns.pairplot(data, hue='Salary_Category', palette='coolwarm', diag_kind='kde')
plt.suptitle("Pairwise Relationships with Salary Category", y=1.02)
plt.show()

# Violin plot for salary distribution by a categorical feature
plt.figure(figsize=(12, 6))
sns.violinplot(x='Department', y='Salary', data=data, split=True, palette="muted")  # Replace 'Department' and 'Salary'
plt.xticks(rotation=45)
plt.title("Salary Distribution Across Departments")
plt.show()

# Joint plot for salary vs experience (replace 'Experience' with an actual feature)
sns.jointplot(data=data, x='Experience', y='Salary', kind='reg', height=8, color='purple')
plt.suptitle("Experience vs. Salary Relationship", y=1.02)
plt.show()

# Missing values heatmap
plt.figure(figsize=(12, 6))
sns.heatmap(data.isnull(), cbar=False, cmap='viridis')
plt.title("Missing Values Heatmap")
plt.show()

# Cumulative salary distribution
sorted_salaries = np.sort(data['Salary'])
cumulative = np.cumsum(sorted_salaries) / sum(sorted_salaries)

plt.figure(figsize=(10, 6))
plt.plot(sorted_salaries, cumulative, color='red', lw=2)
plt.title("Cumulative Salary Distribution")
plt.xlabel("Salaries")
plt.ylabel("Cumulative Proportion")
plt.show()

import plotly.express as px

# Interactive scatter plot
fig = px.scatter(data, x="Experience", y="Salary", color="Department", size="Age", 
                 title="Interactive Plot: Experience vs Salary")
fig.show()







