# Display basic information
print("Dataset Info:")
data.info()

# Show the first few rows
print("\nFirst few rows of the dataset:")
print(data.head())

# Check for missing values
print("\nMissing values:")
print(data.isnull().sum())

# Check dataset dimensions
print(f"\nDataset contains {data.shape[0]} rows and {data.shape[1]} columns.")


# Summary for numerical columns
print("\nStatistical Summary of Numerical Features:")
print(data.describe())

# Summary for categorical columns
categorical_cols = data.select_dtypes(include=['object']).columns
print("\nUnique Values in Categorical Features:")
for col in categorical_cols:
    print(f"{col}: {data[col].nunique()} unique values")

import seaborn as sns
import matplotlib.pyplot as plt

# Correlation matrix
correlation_matrix = data.corr()

# Heatmap
plt.figure(figsize=(10, 8))
sns.heatmap(correlation_matrix, annot=True, cmap='coolwarm', fmt=".2f")
plt.title("Correlation Heatmap")
plt.show()


# Histograms for numerical columns
numerical_cols = data.select_dtypes(include=['float64', 'int64']).columns

for col in numerical_cols:
    plt.figure(figsize=(8, 4))
    sns.histplot(data[col], kde=True, color='blue', bins=30)
    plt.title(f"Distribution of {col}")
    plt.xlabel(col)
    plt.ylabel("Frequency")
    plt.show()

for col in numerical_cols:
    plt.figure(figsize=(8, 4))
    sns.boxplot(data[col], color='orange')
    plt.title(f"Boxplot for {col}")
    plt.xlabel(col)
    plt.show()

for col in categorical_cols:
    plt.figure(figsize=(8, 4))
    sns.countplot(data[col], palette='viridis', order=data[col].value_counts().index)
    plt.title(f"Frequency of Categories in {col}")
    plt.xticks(rotation=45)
    plt.xlabel(col)
    plt.ylabel("Count")
    plt.show()


# Scatter plots for numerical features against target variable
for col in numerical_cols:
    if col != 'salary':  # Exclude target column
        plt.figure(figsize=(8, 4))
        sns.scatterplot(x=data[col], y=data['salary'], alpha=0.6)
        plt.title(f"{col} vs Salary")
        plt.xlabel(col)
        plt.ylabel("Salary")
        plt.show()
# Boxplots to see salary distribution by category
for col in categorical_cols:
    plt.figure(figsize=(8, 4))
    sns.boxplot(x=data[col], y=data['salary'], palette='Set3')
    plt.title(f"Salary Distribution by {col}")
    plt.xlabel(col)
    plt.ylabel("Salary")
    plt.xticks(rotation=45)
    plt.show()


import missingno as msno

# Visualize missing data
plt.figure(figsize=(10, 6))
msno.bar(data)
plt.title("Missing Data Bar Plot")
plt.show()

# Heatmap of missing data
plt.figure(figsize=(10, 6))
msno.heatmap(data)
plt.title("Missing Data Heatmap")
plt.show()

from sklearn.ensemble import RandomForestRegressor

# Quick model to estimate feature importance
X = data.drop('salary', axis=1)
y = data['salary']

# Fill missing values for simplicity
X.fillna(0, inplace=True)
X = pd.get_dummies(X, drop_first=True)  # One-hot encoding for categorical data

model = RandomForestRegressor(random_state=42)
model.fit(X, y)

# Extract feature importances
feature_importances = pd.Series(model.feature_importances_, index=X.columns)
feature_importances.sort_values(ascending=False).head(10).plot(kind='barh', figsize=(8, 6), color='purple')
plt.title("Top 10 Important Features")
plt.xlabel("Importance")
plt.ylabel("Feature")
plt.show()

important_features = feature_importances.sort_values(ascending=False).head(5).index
sns.pairplot(data[important_features], diag_kind='kde', corner=True)
plt.suptitle("Pairplot of Important Features", y=1.02)
plt.show()





