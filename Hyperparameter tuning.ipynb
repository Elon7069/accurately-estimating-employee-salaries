{
 "cells": [
  {
   "cell_type": "code",
   "execution_count": null,
   "id": "a3122860-1aea-4f47-b955-8bd63661e92c",
   "metadata": {},
   "outputs": [],
   "source": [
    "# Actual vs Predicted Salaries\n",
    "plt.scatter(y_test, y_pred)\n",
    "plt.xlabel('Actual Salaries')\n",
    "plt.ylabel('Predicted Salaries')\n",
    "plt.title('Actual vs Predicted Salaries')\n",
    "plt.show()\n",
    "\n",
    "# Feature importance (for tree-based models, if time permits)\n",
    "# Example using Random Forest (optional):\n",
    "from sklearn.ensemble import RandomForestRegressor\n",
    "\n",
    "rf_model = RandomForestRegressor()\n",
    "rf_model.fit(X_train, y_train)\n",
    "\n",
    "importances = rf_model.feature_importances_\n",
    "features = data.drop('Salary', axis=1).columns\n",
    "\n",
    "sns.barplot(x=importances, y=features)\n",
    "plt.title('Feature Importance')\n",
    "plt.show()\n"
   ]
  }
 ],
 "metadata": {
  "kernelspec": {
   "display_name": "Python 3 (ipykernel)",
   "language": "python",
   "name": "python3"
  },
  "language_info": {
   "codemirror_mode": {
    "name": "ipython",
    "version": 3
   },
   "file_extension": ".py",
   "mimetype": "text/x-python",
   "name": "python",
   "nbconvert_exporter": "python",
   "pygments_lexer": "ipython3",
   "version": "3.12.7"
  }
 },
 "nbformat": 4,
 "nbformat_minor": 5
}
