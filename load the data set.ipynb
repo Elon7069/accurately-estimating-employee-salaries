import pandas as pd
import os

def load_dataset(file_path, display_info=True, rename_columns=False):
    """
    Function to load and inspect a dataset with options for column renaming and structure inspection.
    
    Parameters:
    - file_path (str): Path to the dataset file.
    - display_info (bool): If True, display basic info about the dataset.
    - rename_columns (bool): If True, rename columns to lower case and replace spaces with underscores.
    
    Returns:
    - pd.DataFrame: Loaded dataset.
    """
    try:
        # Check if file exists
        if not os.path.exists(file_path):
            raise FileNotFoundError(f"The file at path '{file_path}' does not exist.")
        
        # Load the dataset
        print("Attempting to load the dataset...")
        data = pd.read_csv(file_path, encoding='utf-8')  # You can adjust encoding if necessary
        print("Dataset loaded successfully!")
        
        # Display dataset structure
        if display_info:
            print("\n--- Dataset Overview ---")
            print(f"Shape: {data.shape}")
            print("Columns:", list(data.columns))
            print("\nSample Data:")
            print(data.head())
        
        # Option to rename columns
        if rename_columns:
            print("\nRenaming columns to standardized format...")
            data.columns = [col.lower().replace(" ", "_") for col in data.columns]
            print("Updated Columns:", list(data.columns))
        
        return data
    
    except pd.errors.EmptyDataError:
        print("Error: The dataset is empty!")
    except pd.errors.ParserError:
        print("Error: Failed to parse the dataset. Check the file format.")
    except Exception as e:
        print(f"An unexpected error occurred: {e}")

# Usage example
file_path = "Protocol-py.csv"  # Replace with your file path
dataset = load_dataset(file_path, display_info=True, rename_columns=True)
